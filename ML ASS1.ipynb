{
 "cells": [
  {
   "cell_type": "code",
   "execution_count": 15,
   "id": "d7545e2a",
   "metadata": {},
   "outputs": [
    {
     "name": "stdout",
     "output_type": "stream",
     "text": [
      "Ages= [19, 19, 20, 22, 24, 24, 24, 25, 25, 26]\n",
      "min of ages= 19\n",
      "max of ages= 26\n",
      "new ages list= [19, 22, 19, 24, 20, 25, 26, 24, 25, 24, 19, 26]\n",
      "Median of ages= 24.0\n",
      "average of ages= 22.75\n",
      "Range= 7\n"
     ]
    }
   ],
   "source": [
    "#finding min, max, median, average and range of ages\n",
    "import statistics\n",
    "ages=[19,22,19,24,20,25,26,24,25,24]\n",
    "print(\"Ages=\",sorted(ages))          #sorting list\n",
    "max_ages=max(ages)                #finding min of ages\n",
    "min_ages=min(ages)             #finding max of ages\n",
    "print(\"min of ages=\",min_ages)\n",
    "print(\"max of ages=\",max_ages)\n",
    "ages.append(min_ages)          #adding min age to list\n",
    "ages.append(max_ages)          #adding max age to list\n",
    "print(\"new ages list=\",ages)\n",
    "res=statistics.median(ages)     #finding median\n",
    "print(\"Median of ages=\",res)\n",
    "average=sum(ages)/len(ages)       #finding average\n",
    "print(\"average of ages=\",average)\n",
    "Range=max_ages-min_ages              #finding range\n",
    "print(\"Range=\",Range)"
   ]
  },
  {
   "cell_type": "code",
   "execution_count": 32,
   "id": "30fffea1",
   "metadata": {},
   "outputs": [
    {
     "name": "stdout",
     "output_type": "stream",
     "text": [
      "{'name': 'oreo', 'color': 'brown', 'breed': 'golden retriever', 'legs': 4, 'age': 7}\n",
      "{'first_name': 'kranthi sree', 'last_name': 'Nimmalapudi', 'gender': 'female', 'age': 25, 'marital_status': 'unmarried', 'skills': ['python', 'java'], 'country': 'India', 'city': 'Missouri'}\n",
      "\n",
      "Student length: 8\n",
      "\n",
      "Skills: ['python', 'java']\n",
      "\n",
      "Updated Skills: ['python', 'java', 'C#']\n",
      "\n",
      "Dictionary Keys: ['first_name', 'last_name', 'gender', 'age', 'marital_status', 'skills', 'country', 'city']\n",
      "\n",
      "Dictionary Values: ['kranthi sree', 'Nimmalapudi', 'female', 25, 'unmarried', ['python', 'java', 'C#'], 'India', 'Missouri']\n"
     ]
    }
   ],
   "source": [
    "dog = dict()              # An Empty dictionary dog\n",
    "dog['name']   = 'oreo'    # Adding dog's name, color, breed, legs, age\n",
    "dog['color']  = 'brown'\n",
    "dog['breed']  = 'golden retriever'\n",
    "dog['legs']   = 4\n",
    "dog['age']    = 7\n",
    "print(dog)\n",
    "student =dict({                                # Student dictionary\n",
    "    'first_name'    :'kranthi sree',\n",
    "    'last_name'     :'Nimmalapudi',\n",
    "    'gender'        :'female',\n",
    "    'age'           : 25,\n",
    "    'marital_status':'unmarried',\n",
    "    'skills'        :['python','java'],\n",
    "    'country'       :'India',\n",
    "    'city'          :'Missouri'\n",
    "    })\n",
    "    \n",
    "print(student)\n",
    "print(\"\\nStudent length:\", len(student))    # Len of student\n",
    "print(\"\\nSkills:\", student.get('skills'))    # Get value of skills\n",
    "skills = student.get('skills')             # Add new skill\n",
    "skills.append('C#')\n",
    "student['skills'] = skills\n",
    "print(\"\\nUpdated Skills:\", student.get('skills'))\n",
    "print(\"\\nDictionary Keys:\",list(student.keys()))      # Get keys\n",
    "print(\"\\nDictionary Values:\",list(student.values()))  # Get Values"
   ]
  },
  {
   "cell_type": "code",
   "execution_count": 69,
   "id": "4c75916b",
   "metadata": {},
   "outputs": [
    {
     "name": "stdout",
     "output_type": "stream",
     "text": [
      "Siblings :  ('Prem', 'Mokshit', 'Bunny', 'Jahnavi')\n",
      "No.Of Siblings: 4\n",
      "family members ('Prem', 'Mokshit', 'Bunny', 'Jahnavi', 'Srinu', 'Anjali')\n"
     ]
    }
   ],
   "source": [
    "sisters  = ('Bunny', 'Jahnavi',)\n",
    "brothers = ('Prem', 'Mokshit',)\n",
    "siblings = brothers + sisters;        # Join brothers and sisters tuples\n",
    "print(\"Siblings : \",siblings)\n",
    "print(\"No.Of Siblings:\", len(siblings))  # No.of siblings\n",
    "siblings=list(siblings);\n",
    "siblings.append('Srinu');                #adding parents to list\n",
    "siblings.append('Anjali');\n",
    "family_members=tuple(siblings);            #converting list to tuple\n",
    "print(\"family members\",family_members)"
   ]
  },
  {
   "cell_type": "code",
   "execution_count": 62,
   "id": "0f3df130",
   "metadata": {},
   "outputs": [
    {
     "name": "stdout",
     "output_type": "stream",
     "text": [
      "Length of set of it_companies:  7\n",
      "{'Facebook', 'Apple', 'Oracle', 'Google', 'Amazon', 'Microsoft', 'IBM', 'Twitter'}\n",
      "{'Facebook', 'Infosys', 'TCS', 'Apple', 'Oracle', 'Google', 'Amazon', 'Microsoft', 'IBM', 'Twitter'}\n",
      "{'Facebook', 'Infosys', 'Apple', 'Oracle', 'Google', 'Amazon', 'Microsoft', 'IBM', 'Twitter'}\n",
      "A Join B :  {19, 20, 22, 24, 25, 26, 27, 28}\n",
      "A intersection B: {19, 20, 22, 24, 25, 26}\n",
      "A subset of B: True\n",
      "A disjoint set B: False\n",
      "B disjoint set A: False\n",
      "A symmetric difference B: {27, 28}\n",
      "Len of age list: 8\n",
      "Len of age set: 5\n"
     ]
    }
   ],
   "source": [
    "it_companies = set(['Facebook', 'Google', 'Microsoft', 'Apple', 'IBM', 'Oracle', 'Amazon'])\n",
    "A = {19, 22, 24, 20, 25, 26}\n",
    "B = {19, 22, 20, 25, 26, 24, 28, 27}\n",
    "age = [22, 19, 24, 25, 26, 24, 25, 24]\n",
    "print(\"Length of set of it_companies: \", len(it_companies))      # Length of set of it_companies\n",
    "it_companies.add('Twitter')                                     # Add 'Twitter' to it_companies\n",
    "print(it_companies)\n",
    "it_companies.update(['Infosys', 'TCS'])                 # Add multiple elements to it_companies\n",
    "print(it_companies)\n",
    "it_companies.remove('TCS')               # Remove one element from it_companies\n",
    "print(it_companies)\n",
    "\n",
    "# Difference between remove() and discard()\n",
    "# remove() and discard() methods are used to remove element from the set\n",
    "# only difference is remove() will raise error if element is not present in the set\n",
    "# while discard() won't raise error\n",
    "\n",
    "print('A Join B : ', A.union(B))                        # Join A and B\n",
    "print('A intersection B:', A.intersection(B))              # A intersection B\n",
    "print('A subset of B:', A.issubset(B))                   # A subset of B\n",
    "print('A disjoint set B:', A.isdisjoint(B))             # disjoints A and B\n",
    "print('B disjoint set A:', B.isdisjoint(A))\n",
    "\n",
    "# # A join B and B join A\n",
    "# print('A join B:', A.update(B))\n",
    "# print('B join A:', B.update(A))\n",
    "print('A symmetric difference B:', A.symmetric_difference(B))       # Symmetric difference\n",
    "del A                                                                # Delete Sets\n",
    "del B\n",
    "print(\"Len of age list:\", len(age))                                 # age list and set\n",
    "print(\"Len of age set:\",len(set(age)))"
   ]
  },
  {
   "cell_type": "code",
   "execution_count": 43,
   "id": "11fab879",
   "metadata": {},
   "outputs": [
    {
     "name": "stdout",
     "output_type": "stream",
     "text": [
      "2827.4333882308138\n",
      "188.49555921538757\n",
      "Please enter radius of circle:30\n",
      "2827.4333882308138\n"
     ]
    }
   ],
   "source": [
    "import math\n",
    "radius =30\n",
    "_area_of_circle_ = math.pi * radius**2     # Area of Circle\n",
    "print(_area_of_circle_)\n",
    "_circum_of_circle_ = 2 * math.pi * radius   # Circumference of circle\n",
    "print(_circum_of_circle_)\n",
    "ip_radius = float(input(\"Please enter radius of circle:\"))\n",
    "_area_of_circle_ = math.pi * ip_radius**2\n",
    "print(_area_of_circle_)"
   ]
  },
  {
   "cell_type": "code",
   "execution_count": 1,
   "id": "efd58f45",
   "metadata": {},
   "outputs": [
    {
     "name": "stdout",
     "output_type": "stream",
     "text": [
      "Unique Words: \n",
      "a\n",
      "teach\n",
      "love\n",
      "am\n",
      "inspire\n",
      "people\n",
      "teacher\n",
      "to\n"
     ]
    }
   ],
   "source": [
    "ip_str = \"I am a teacher and I love to inspire and teach people\"      #given string\n",
    "\n",
    "str_list   = ip_str.split(' ')              #splitting the string\n",
    "words = set(str_list)                  \n",
    "uniq_words = dict()\n",
    "\n",
    "for word in words:\n",
    "    uniq_words[word] = str_list.count(word)\n",
    "\n",
    "print(\"Unique Words: \")                         #printing unique words\n",
    "for word, count in uniq_words.items():\n",
    "    if count == 1:\n",
    "        print(word)"
   ]
  },
  {
   "cell_type": "code",
   "execution_count": 2,
   "id": "5e55f062",
   "metadata": {},
   "outputs": [
    {
     "name": "stdout",
     "output_type": "stream",
     "text": [
      "Name \t\t Age \t Country \t City\n",
      "Asabeneh\t 250\t Finland\t Helsinki\n"
     ]
    }
   ],
   "source": [
    "print(\"Name \\t\\t Age \\t Country \\t City\")               #tabescape sequence\n",
    "print(\"Asabeneh\\t 250\\t Finland\\t Helsinki\")"
   ]
  },
  {
   "cell_type": "code",
   "execution_count": 3,
   "id": "b605c0f0",
   "metadata": {},
   "outputs": [
    {
     "name": "stdout",
     "output_type": "stream",
     "text": [
      "The area of a circle with radius 10 is 314.0 meters square.\n"
     ]
    }
   ],
   "source": [
    "radius = 10\n",
    "area   = 3.14 * (radius**2)                   #area of circle\n",
    "print(\"The area of a circle with radius {0} is {1} meters square.\".format(radius, area))"
   ]
  },
  {
   "cell_type": "code",
   "execution_count": 4,
   "id": "981a70af",
   "metadata": {},
   "outputs": [
    {
     "name": "stdout",
     "output_type": "stream",
     "text": [
      "Enter no.of students:4\n",
      "Please enter 4 comma seperated values:150, 155, 145, 148\n",
      "Input List:  ['150', ' 155', ' 145', ' 148']\n",
      "Output :  [68.0388, 70.30676, 65.77083999999999, 67.131616]\n"
     ]
    }
   ],
   "source": [
    "# 1 Lb = 0.45 KG \n",
    "lb_to_kg = 0.453592\n",
    "N = int(input(\"Enter no.of students:\"))                   \n",
    "ip_list = list(input(f\"Please enter {N} comma seperated values:\").split(','))       #enter values with comma separated\n",
    "\n",
    "print(\"Input List: \", ip_list)                         #print values\n",
    "\n",
    "res = []\n",
    "for i in range(N):                                               \n",
    "    res.append(float(ip_list[i])*lb_to_kg)            #converting lb to kg   \n",
    "    \n",
    "print(\"Output : \",res)"
   ]
  }
 ],
 "metadata": {
  "kernelspec": {
   "display_name": "Python 3 (ipykernel)",
   "language": "python",
   "name": "python3"
  },
  "language_info": {
   "codemirror_mode": {
    "name": "ipython",
    "version": 3
   },
   "file_extension": ".py",
   "mimetype": "text/x-python",
   "name": "python",
   "nbconvert_exporter": "python",
   "pygments_lexer": "ipython3",
   "version": "3.9.13"
  }
 },
 "nbformat": 4,
 "nbformat_minor": 5
}
